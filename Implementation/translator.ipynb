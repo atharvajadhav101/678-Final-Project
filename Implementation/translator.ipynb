{
  "cells": [
    {
      "cell_type": "code",
      "execution_count": null,
      "metadata": {
        "id": "1jRkOBpEQuvE"
      },
      "outputs": [],
      "source": [
        "!pip install googletrans==4.0.0-rc1\n",
        "\n",
        "!pip install googletrans==3.1.0a0\n",
        "\n",
        "!pip install google_trans_new\n"
      ]
    },
    {
      "cell_type": "code",
      "execution_count": null,
      "metadata": {
        "id": "Xxfpxv6xRB00"
      },
      "outputs": [],
      "source": [
        "pip install googletrans==4.0.0-rc1"
      ]
    },
    {
      "cell_type": "code",
      "execution_count": null,
      "metadata": {
        "id": "36jRKfpNPrWo"
      },
      "outputs": [],
      "source": [
        "import csv\n",
        "from googletrans import Translator\n",
        "\n",
        "translator = Translator(service_urls=['translate.google.com'])\n",
        "\n",
        "with open('russian.csv', mode='r', encoding='utf-8') as input_file, \\\n",
        "     open('output.csv', mode='w', encoding='utf-8', newline='') as output_file:\n",
        "\n",
        "    reader = csv.DictReader(input_file)\n",
        "    fieldnames = reader.fieldnames + ['Translated Column 1', 'Translated Column 2']\n",
        "    writer = csv.DictWriter(output_file, fieldnames=fieldnames)\n",
        "    writer.writeheader()\n",
        "\n",
        "    for row in reader:\n",
        "        translated_col1 = translator.translate(row['stereotype'], dest='en').text\n",
        "        print(translated_col1)\n",
        "        translated_col2 = translator.translate(row['anti-stereotype'], dest='en').text\n",
        "        writer.writerow(dict(row, **{\n",
        "            'stereotype': translated_col1,\n",
        "            'anti-stereotype': translated_col2\n",
        "        }))\n"
      ]
    }
  ],
  "metadata": {
    "colab": {
      "provenance": []
    },
    "kernelspec": {
      "display_name": "Python 3",
      "name": "python3"
    },
    "language_info": {
      "name": "python"
    }
  },
  "nbformat": 4,
  "nbformat_minor": 0
}