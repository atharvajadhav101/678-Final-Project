{
 "cells": [
  {
   "cell_type": "code",
   "execution_count": 2,
   "metadata": {
    "colab": {
     "base_uri": "https://localhost:8080/"
    },
    "id": "4dj1MZ4radhq",
    "outputId": "c6c9f63d-d164-4fe7-e669-aa20a4d0a30b",
    "scrolled": true
   },
   "outputs": [
    {
     "name": "stderr",
     "output_type": "stream",
     "text": [
      "[nltk_data] Downloading package averaged_perceptron_tagger to\n",
      "[nltk_data]     /home/pdesai6/nltk_data...\n",
      "[nltk_data]   Package averaged_perceptron_tagger is already up-to-\n",
      "[nltk_data]       date!\n"
     ]
    },
    {
     "data": {
      "text/plain": [
       "True"
      ]
     },
     "execution_count": 2,
     "metadata": {},
     "output_type": "execute_result"
    }
   ],
   "source": [
    "import nltk\n",
    "nltk.download('averaged_perceptron_tagger')"
   ]
  },
  {
   "cell_type": "code",
   "execution_count": 1,
   "metadata": {
    "id": "YoYM_yDvaGZe"
   },
   "outputs": [],
   "source": [
    "import json\n",
    "import argparse\n",
    "import torch\n",
    "import difflib\n",
    "\n",
    "from tqdm import tqdm\n",
    "from collections import defaultdict\n",
    "from transformers import AutoModelForMaskedLM, AutoTokenizer"
   ]
  },
  {
   "cell_type": "code",
   "execution_count": 2,
   "metadata": {
    "id": "5IWdgxk1aLZR"
   },
   "outputs": [],
   "source": [
    "def load_tokenizer_and_model():\n",
    "   \n",
    "\n",
    "    pretrained_weights = 'bert-base-cased'\n",
    "    model = AutoModelForMaskedLM.from_pretrained(pretrained_weights,\n",
    "                                                 output_hidden_states=True,\n",
    "                                                 output_attentions=True)\n",
    "    tokenizer = AutoTokenizer.from_pretrained(pretrained_weights)\n",
    "\n",
    "    model = model.eval()\n",
    "    if torch.cuda.is_available():\n",
    "        model.to('cuda')\n",
    "\n",
    "    return tokenizer, model\n"
   ]
  },
  {
   "cell_type": "code",
   "execution_count": 3,
   "metadata": {
    "id": "zVpFDspkanta"
   },
   "outputs": [],
   "source": [
    "def get_rank_for_gold_token(log_probs, token_ids):\n",
    "    '''\n",
    "    Get rank for gold token from log probability.\n",
    "    '''\n",
    "    sorted_indexes = torch.sort(log_probs, dim=1, descending=True)[1]\n",
    "    ranks = torch.where(sorted_indexes == token_ids)[1] + 1\n",
    "    ranks = ranks.tolist()\n",
    "\n",
    "    return ranks"
   ]
  },
  {
   "cell_type": "code",
   "execution_count": 4,
   "metadata": {
    "id": "R4IeG7v1aqVa"
   },
   "outputs": [],
   "source": [
    "def calculate_aul(model, token_ids, log_softmax, attention):\n",
    "    '''\n",
    "    Given token ids of a sequence, return the averaged log probability of\n",
    "    unmasked sequence (AULA or AUL).\n",
    "    '''\n",
    "    output = model(token_ids)\n",
    "    logits = output.logits.squeeze(0)\n",
    "    log_probs = log_softmax(logits)\n",
    "    token_ids = token_ids.view(-1, 1).detach()\n",
    "    token_log_probs = log_probs.gather(1, token_ids)[1:-1]\n",
    "    if attention:\n",
    "        attentions = torch.mean(torch.cat(output.attentions, 0), 0)\n",
    "        averaged_attentions = torch.mean(attentions, 0)\n",
    "        averaged_token_attentions = torch.mean(averaged_attentions, 0)\n",
    "        token_log_probs = token_log_probs.squeeze(1) * averaged_token_attentions[1:-1]\n",
    "    sentence_log_prob = torch.mean(token_log_probs)\n",
    "    score = sentence_log_prob.item()\n",
    "\n",
    "    ranks = get_rank_for_gold_token(log_probs, token_ids)\n",
    "\n",
    "    return score, ranks\n",
    "\n"
   ]
  },
  {
   "cell_type": "code",
   "execution_count": 5,
   "metadata": {
    "colab": {
     "base_uri": "https://localhost:8080/",
     "height": 325
    },
    "id": "TJa8720Lax-1",
    "outputId": "e57092b8-79b9-4192-baa8-6ad71c823aef"
   },
   "outputs": [
    {
     "name": "stderr",
     "output_type": "stream",
     "text": [
      "Some weights of the model checkpoint at bert-base-cased were not used when initializing BertForMaskedLM: ['cls.seq_relationship.weight', 'cls.seq_relationship.bias']\n",
      "- This IS expected if you are initializing BertForMaskedLM from the checkpoint of a model trained on another task or with another architecture (e.g. initializing a BertForSequenceClassification model from a BertForPreTraining model).\n",
      "- This IS NOT expected if you are initializing BertForMaskedLM from the checkpoint of a model that you expect to be exactly identical (initializing a BertForSequenceClassification model from a BertForSequenceClassification model).\n",
      "100%|██████████| 278/278 [01:03<00:00,  4.37it/s]\n"
     ]
    }
   ],
   "source": [
    "\n",
    "tokenizer, model = load_tokenizer_and_model()\n",
    "total_score = 0\n",
    "stereo_score = 0\n",
    "\n",
    "if torch.cuda.is_available():\n",
    "    torch.set_default_tensor_type('torch.cuda.FloatTensor')\n",
    "\n",
    "mask_id = tokenizer.mask_token_id\n",
    "log_softmax = torch.nn.LogSoftmax(dim=1)\n",
    "vocab = tokenizer.get_vocab()\n",
    "vocab = []\n",
    "count = defaultdict(int)\n",
    "scores = defaultdict(int)\n",
    "all_ranks = []\n",
    "data = []\n",
    "\n",
    "#different masking techniques\n",
    "abbr = [\n",
    "    'PRP',  \n",
    "    'PRP$'\n",
    "]\n",
    "# abbr = [\n",
    "#     'NN', \n",
    "#     'NNS'\n",
    "# ]\n",
    "\n",
    "# abbr = [\n",
    "#     'NN', \n",
    "#     'NNS',\n",
    "#     'PRP',  \n",
    "#     'PRP$'\n",
    "# ]\n",
    "\n",
    "with open(f'op2.json') as f:\n",
    "    inputs = json.load(f)\n",
    "    total_num = len(inputs)\n",
    "    for input_text in tqdm(inputs):\n",
    "        bias_type = input_text['bias_type']\n",
    "        count[bias_type] += 1\n",
    "\n",
    "        pro_sentence = input_text['stereotype']\n",
    "        \n",
    "        # To mask the sentence \n",
    "#         new_pro_sentence = []\n",
    "#         for x in pro_sentence.split():\n",
    "#             if nltk.pos_tag([x.lower()])[0][1] in abbr: \n",
    "#                 new_pro_sentence.append('[MASK]')\n",
    "#             else:\n",
    "#                 new_pro_sentence.append(x)\n",
    "#         pro_sentence = \" \".join(new_pro_sentence)\n",
    "#         #print(pro_sentence)\n",
    "        pro_token_ids = tokenizer.encode(pro_sentence, return_tensors='pt')\n",
    "\n",
    "        anti_sentence = input_text['anti-stereotype']\n",
    "        # To mask the sentence \n",
    "#         new_anti_sentence = []\n",
    "#         for x in anti_sentence.split():\n",
    "#             if nltk.pos_tag([x.lower()])[0][1] in abbr: \n",
    "#                 new_anti_sentence.append('[MASK]')\n",
    "#             else:\n",
    "#                 new_anti_sentence.append(x)\n",
    "#         anti_sentence = \" \".join(new_anti_sentence)\n",
    "#         #print(anti_sentence)\n",
    "        \n",
    "        anti_token_ids = tokenizer.encode(anti_sentence, return_tensors='pt')\n",
    "        \n",
    "\n",
    "        with torch.no_grad():\n",
    "                #  alu\n",
    "                attention = True \n",
    "                \n",
    "                pro_score, pro_ranks = calculate_aul(model, pro_token_ids, log_softmax, attention)\n",
    "                anti_score, anti_ranks = calculate_aul(model, anti_token_ids, log_softmax, attention)\n",
    "\n",
    "        all_ranks += anti_ranks\n",
    "        all_ranks += pro_ranks\n",
    "        total_score += 1\n",
    "        if pro_score > anti_score:\n",
    "            stereo_score += 1\n",
    "            scores[bias_type] += 1\n",
    "\n",
    "\n"
   ]
  },
  {
   "cell_type": "code",
   "execution_count": 6,
   "metadata": {
    "colab": {
     "base_uri": "https://localhost:8080/"
    },
    "id": "vxHIpPZKbSP0",
    "outputId": "33a734d6-dede-4aee-a335-e1d7e1fd260e"
   },
   "outputs": [
    {
     "name": "stdout",
     "output_type": "stream",
     "text": [
      "Bias score: 33.45\n",
      "gender 33.45\n",
      "Accuracy: 77.07\n"
     ]
    }
   ],
   "source": [
    "bias_score = round((stereo_score / total_score) * 100, 2)\n",
    "print('Bias score:', bias_score)\n",
    "for bias_type, score in sorted(scores.items()):\n",
    "    bias_score = round((score / count[bias_type]) * 100, 2)\n",
    "    print(bias_type, bias_score)\n",
    "all_ranks = [rank for rank in all_ranks if rank != -1]\n",
    "accuracy = sum([1 for rank in all_ranks if rank == 1]) / len(all_ranks)\n",
    "accuracy *= 100\n",
    "print(f'Accuracy: {accuracy:.2f}')\n"
   ]
  },
  {
   "cell_type": "code",
   "execution_count": null,
   "metadata": {},
   "outputs": [],
   "source": []
  }
 ],
 "metadata": {
  "colab": {
   "provenance": []
  },
  "kernelspec": {
   "display_name": "Python 3 (ipykernel)",
   "language": "python",
   "name": "python3"
  },
  "language_info": {
   "codemirror_mode": {
    "name": "ipython",
    "version": 3
   },
   "file_extension": ".py",
   "mimetype": "text/x-python",
   "name": "python",
   "nbconvert_exporter": "python",
   "pygments_lexer": "ipython3",
   "version": "3.9.9"
  }
 },
 "nbformat": 4,
 "nbformat_minor": 1
}
